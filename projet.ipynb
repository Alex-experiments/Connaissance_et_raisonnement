{
 "cells": [
  {
   "cell_type": "code",
   "execution_count": 1,
   "metadata": {},
   "outputs": [],
   "source": [
    "import nltk\n",
    "from nltk.inference.resolution import clausify, Clause\n",
    "from nltk.sem import Expression, skolemize\n",
    "\n",
    "read_expr = nltk.sem.Expression.fromstring"
   ]
  },
  {
   "cell_type": "code",
   "execution_count": 3,
   "metadata": {},
   "outputs": [],
   "source": [
    "clauses = []\n",
    "with open(\"./InputProver9_assumptions.txt\", \"r\") as f:\n",
    "    for line in f.readlines()[:]:\n",
    "        if line.startswith(\"%\"):\n",
    "            continue\n",
    "        line = line.replace(\".\\n\", \"\")\n",
    "        line = line.replace(\"\\n\", \"\")\n",
    "\n",
    "        if len(line)>0:\n",
    "            clauses.append(read_expr(line))"
   ]
  },
  {
   "cell_type": "code",
   "execution_count": null,
   "metadata": {},
   "outputs": [],
   "source": [
    "#conclusion = read_expr(\"Adulte(Jean)\")\n",
    "#conclusion = read_expr(\"PossedeAuMoinsQuantite(Jean, Tomate, deux)\")\n",
    "conclusion = read_expr(\"A_AcheteViande(Jean)\")\n",
    "#conclusion = read_expr(\"Personne(Marie) & exists q(Achete(Marie, Tomate, Safeway, q, hier)) -> Rencontre(Jean,Marie)\")\n",
    "#conclusion = read_expr(\"-Prepare(Safeway, Tomate)\")\n",
    "#conclusion = read_expr(\"Mange(Jean, Tomate)\")\n",
    "#conclusion = read_expr(\"Vend(Safeway, Deodorant)\")\n",
    "#conclusion = read_expr(\"ApporteCarteCredit(Jean) | ApporteCash(Jean)\")\n",
    "#conclusion = read_expr(\"exists M2(A_Argent(Jean, M2, aujourdhui) & MoinsQue(M2, M1))\")\n",
    "\n",
    "\n",
    "prover = nltk.ResolutionProverCommand(conclusion, clauses)\n",
    "print(prover.prove())\n",
    "print(prover.proof())"
   ]
  }
 ],
 "metadata": {
  "kernelspec": {
   "display_name": ".venv",
   "language": "python",
   "name": "python3"
  },
  "language_info": {
   "codemirror_mode": {
    "name": "ipython",
    "version": 3
   },
   "file_extension": ".py",
   "mimetype": "text/x-python",
   "name": "python",
   "nbconvert_exporter": "python",
   "pygments_lexer": "ipython3",
   "version": "3.9.13"
  },
  "orig_nbformat": 4,
  "vscode": {
   "interpreter": {
    "hash": "1714341354670aee5ceb894891d9ada0a5a92beca87c5e00260dcb604667ae92"
   }
  }
 },
 "nbformat": 4,
 "nbformat_minor": 2
}
